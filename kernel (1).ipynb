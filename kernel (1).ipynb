{
  "cells": [
    {
      "metadata": {
        "_uuid": "ebf6c586ba7ebfb87a61c635151b4338bde20fbb"
      },
      "cell_type": "markdown",
      "source": "v7\n17 AUG 2018 \n1. Skew Removed\n2.Feature Exploration - Application data (to be started)\n3. nans not removed"
    },
    {
      "metadata": {
        "_uuid": "190cf117f97005351e285a996d140ad7b18b2f18"
      },
      "cell_type": "markdown",
      "source": "References\n[Link1](http://dziganto.github.io/cross-validation/data%20science/machine%20learning/model%20tuning/python/Model-Tuning-with-Validation-and-Cross-Validation)\n[Link2](https://www.kaggle.com/willkoehrsen/start-here-a-gentle-introduction/notebook)\n[Link3](https://towardsdatascience.com/a-complete-machine-learning-project-walk-through-in-python-part-two-300f1f8147e2)\nhttps://machinelearningmastery.com/avoid-overfitting-by-early-stopping-with-xgboost-in-python/\n\n#https://lightgbm.readthedocs.io/en/latest/Parameters.html0\nhttps://medium.com/@pushkarmandot/https-medium-com-pushkarmandot-what-is-lightgbm-how-to-implement-it-how-to-fine-tune-the-parameters-60347819b7fc\nhttps://www.kaggle.com/eikedehling/tune-and-compare-xgb-lightgbm-rf-with-hyperopt\nhttps://www.kaggle.com/willkoehrsen/automated-feature-engineering-basics/notebook\n\n"
    },
    {
      "metadata": {
        "_uuid": "79bf76a77f68676fe88baf7c21b94d2ca60e5c09"
      },
      "cell_type": "markdown",
      "source": "## Functions"
    },
    {
      "metadata": {
        "_uuid": "a0cb810b8c69c54c1fe714a7f3e857441eb83b5b"
      },
      "cell_type": "markdown",
      "source": "diving train and test data"
    },
    {
      "metadata": {
        "trusted": true,
        "_uuid": "e22e5ac7c6f7bda8b1b5133a40298604f974a690"
      },
      "cell_type": "code",
      "source": "def divide_data(train,test):\n    \n    print(\"Dividing data into numerical and categorical\")\n    print(\"Train and Test Shape Before:  \", train.shape , test.shape)\n    # separating object and non object data\n    object_list=[]\n    not_object_list=[]\n    for num in train.columns:\n        if (train[num].dtype=='object'):\n            object_list.append(num)\n        else:\n            not_object_list.append(num)\n    train_num=train[not_object_list]\n    not_object_list.remove('TARGET')\n    test_num=test[not_object_list]\n    train_cat=train[object_list]\n    test_cat=test[object_list]\n    print(\"Train(Numerical) and Test(Numerical) Shape After:  \", train_num.shape , test_num.shape)\n    print(\"Train(Categorical) and Test(Categorical) Shape After:  \", train_cat.shape , test_cat.shape)\n    \n    return(train_num,test_num,train_cat,test_cat)",
      "execution_count": null,
      "outputs": []
    },
    {
      "metadata": {
        "_uuid": "50106dc7eee9df14c2b143464a6becb41dba9ffa"
      },
      "cell_type": "markdown",
      "source": "Adding integers to categorical data"
    },
    {
      "metadata": {
        "trusted": true,
        "_uuid": "c3fe3368dc63dfd3b88b961ce993978e908508fe"
      },
      "cell_type": "code",
      "source": "def add_int_to_cat(train_num,train_cat,test_num,test_cat):\n    #Diving object data into float and int and adding int columns <10 to categorical data \n    print(\"\\nBreaking numerical features into float and int, and atting integers in categorical\")\n    num_list=[]\n    cat_list=[]\n    for col in train_num.columns:\n        if (train_num[col].dtype == \"int64\") & (train_num[col].nunique() < unique_values) :\n            cat_list.append(col)\n        else:\n            num_list.append(col)\n    train_num_num=train_num[num_list]\n    test_num_num=test_num[num_list]\n    train_num_cat=train_num[cat_list]\n    cat_list.remove('TARGET')\n    test_num_cat=test_num[cat_list]\n\n    print(\"Float - Train(Numerical) and Test(Numerical) Shape After:  \", train_num_num.shape , test_num_num.shape)\n    print(\"Int - Train(Numerical) and Test(Numerical) Shape After:  \", train_num_cat.shape , test_num_cat.shape)\n\n    train_num=train_num_num\n    test_num=test_num_num\n    train_cat= pd.concat([train_num_cat,train_cat], ignore_index=False, axis=1)\n    test_cat= pd.concat([test_num_cat,test_cat], ignore_index=False, axis=1)\n\n    print(\"Train(Numerical) and Test(Numerical) Shape:  \", train_num.shape , test_num.shape)\n    print(\"Train(Categorical) and Test(Categorical) Shape:  \", train_cat.shape , test_cat.shape)\n    \n    return(train_num,test_num,train_cat,test_cat)",
      "execution_count": null,
      "outputs": []
    },
    {
      "metadata": {
        "_uuid": "27b492ce46d5a1194a991a373a672d9c88b1c909"
      },
      "cell_type": "markdown",
      "source": "Removing Categorical Nans"
    },
    {
      "metadata": {
        "trusted": true,
        "_uuid": "87b87f2a59b3256966244378907e01bf74cf2a6d"
      },
      "cell_type": "code",
      "source": "def remove_cat_nans(train_cat,test_cat):\n    if nan_allow==True:\n        print(\"\\nRemoving columns from categorical Features with nan > \",nan_per,\"%\")\n        #nan columns and value removal\n        print(\"Total Nan Values : \", pd.isna(train_cat).sum().sum())\n        print(\"Total Nan Values : \", pd.isna(test_cat).sum().sum())\n\n        for col in train_cat.columns.values:\n            if (pd.isna(train_cat[col]).sum())>0:\n                if pd.isna(train_cat[col]).sum() > (nan_per/100*len(train_cat)):\n                    #remove columns with nan values greater than 40%\n                    print(col,\"removed\", pd.isna(train_cat[col]).sum())\n                    train_cat=train_cat.drop([col], axis=1)\n                    test_cat=test_cat.drop([col], axis=1)\n                else:\n                    #Fill nan values with mode\n                    train_cat[col]=train_cat[col].fillna(train_cat[col].mode()[0])\n                    test_cat[col]=test_cat[col].fillna(test_cat[col].mode()[0])\n            else:\n                #pass\n                if(col!='TARGET'):\n                    if(pd.isna(test_cat[col]).sum()>0):\n                        test_cat[col]=test_cat[col].fillna(test_cat[col].mode()[0])\n\n        print(\"Total Nan Values Left: \", pd.isna(train_cat).sum().sum())\n        print(\"Total Nan Values Left: \", pd.isna(test_cat).sum().sum())\n\n        print(\"Train(Categorical) and Test(Categorical) Shape After: \", train_cat.shape , test_cat.shape)\n    else:\n        print(\"\\nNAN flag not set\")\n        \n    return (train_cat, test_cat)",
      "execution_count": null,
      "outputs": []
    },
    {
      "metadata": {
        "_uuid": "b45769c62685e24ba2f7e768dfda20bb68666d3e"
      },
      "cell_type": "markdown",
      "source": "convert to dummy"
    },
    {
      "metadata": {
        "trusted": true,
        "_uuid": "d94c70196f83b7bf193e8bc1a2aa0704b1e7dbd4"
      },
      "cell_type": "code",
      "source": "def convert_to_dummy(train_cat,test_cat):\n    \n    if dummy==True:\n        print(\"\\nConverting Categorical data to dummy\")\n        train_data = pd.concat([train_cat, test_cat], ignore_index=False, axis=0)   \n        train_data=pd.get_dummies(train_data)\n        train_cat=train_data.loc[train_cat.index.values]\n        test_cat=train_data.loc[test_cat.index.values]\n    else:\n        print(\"\\nConverting Categorical data to cat codes\")\n        for col in train_cat.columns.values:\n            train_cat[col]=train_cat[col].astype('category').cat.codes\n            if col!='TARGET':\n                test_cat[col]=test_cat[col].astype('category').cat.codes\n\n    print(\"Train(Categorical) and Test(Categorical) Shape After: \", train_cat.shape , test_cat.shape)\n    return (train_cat,test_cat)",
      "execution_count": null,
      "outputs": []
    },
    {
      "metadata": {
        "_uuid": "512667634c07b44d3ed9461efd269f69ae36bc8b"
      },
      "cell_type": "markdown",
      "source": "removing nans from numerical data"
    },
    {
      "metadata": {
        "trusted": true,
        "_uuid": "18cfd9ee19407071eb156c1a1769468efea60098"
      },
      "cell_type": "code",
      "source": "def remove_num_nans(train_num,test_num):\n    if nan_allow==True:\n        #remove nans\n        print(\"\\nRemoving columns from numerical Features with nan > \",nan_per,\"%\")\n        #nan columns and value removal\n        print(\"Total Nan Values : \", pd.isna(train_num).sum().sum())\n        print(\"Total Nan Values Left: \", pd.isna(test_num).sum().sum())\n\n        for col in train_num.columns.values:\n            if (pd.isna(train_num[col]).sum())>0:\n                if pd.isna(train_num[col]).sum() > (nan_per/100*len(train_num)):\n                    #remove columns with nan values greater than 40%\n                    print(col,\"removed\", pd.isna(train_num[col]).sum())\n                    train_num=train_num.drop([col], axis=1)\n                    test_num=test_num.drop([col], axis=1)\n                else:\n                    #Fill nan values with mode\n                    train_num[col]=train_num[col].fillna(train_num[col].median())\n                    test_num[col]=test_num[col].fillna(test_num[col].median())\n                    #train_num[col]=train_num[col].fillna(0)\n                    #test_num[col]=test_num[col].fillna(0)\n            else:\n                pass\n                if(col!='TARGET'):\n                    if(pd.isna(test_num[col]).sum()>0):\n                        test_num[col]=test_num[col].fillna(test_num[col].median())\n\n        print(\"Total Nan Values Left: \", pd.isna(train_num).sum().sum())\n        print(\"Total Nan Values Left: \", pd.isna(test_num).sum().sum())\n        print(\"Train(Numerical) and Test(Numerical) Shape After: \", train_num.shape , test_num.shape)\n    else:\n        print(\"\\nNAN flag not set\")\n        \n    return(train_num,test_num)",
      "execution_count": null,
      "outputs": []
    },
    {
      "metadata": {
        "_uuid": "cb5ade230c378b9a2f85cb04c65894a7b146954f"
      },
      "cell_type": "markdown",
      "source": "Combining Preprocessed Data "
    },
    {
      "metadata": {
        "trusted": true,
        "_uuid": "967c420595e08bbf51186899cff8c85b150745b7"
      },
      "cell_type": "code",
      "source": "def combine_data(train_num,test_num,train_cat,test_cat):\n    \n    if combine_datatypes==True:\n        print(\"\\nCombining Numerical and Categorical Data\")\n        X_train = pd.concat([train_num, train_cat], ignore_index=False, axis=1)   \n        X_test = pd.concat([test_num, test_cat], ignore_index=False, axis=1)   \n    if num_dtype==True:\n        print(\"\\nUsing Numerical Data Only\")\n        X_train=train_num\n        X_test=test_num\n    if cat_dtype==True:\n        print(\"\\nUsing Categorical Data )nly\")\n        X_train=train_cat\n        X_test=test_cat\n    print(\"Train and Test Shape After:  \", X_train.shape , X_test.shape)\n    \n    return(X_train,X_test)",
      "execution_count": null,
      "outputs": []
    },
    {
      "metadata": {
        "_uuid": "908f095662157b9af9a6452757d36e8c634638bf"
      },
      "cell_type": "markdown",
      "source": "## Conditions and Constants"
    },
    {
      "metadata": {
        "trusted": true,
        "_uuid": "f8b5066bb3de14626b67bc8b936db873b1647122"
      },
      "cell_type": "code",
      "source": "nan_per=20\ndummy=False\nunique_values=5\ncombine_datatypes=True #if True, consider both numeric and categoric data\nremove_outliers=True # if true,remove outliers from the data\ncat_dtype=False # if True, consider catagoric data only\nnum_dtype=False # if True, consider numeric data only\nnan_allow=True",
      "execution_count": 2,
      "outputs": []
    },
    {
      "metadata": {
        "_uuid": "76b7b4b448ebfca264af81476514635cc94e953f"
      },
      "cell_type": "markdown",
      "source": "## Imports"
    },
    {
      "metadata": {
        "_uuid": "8f2839f25d086af736a60e9eeb907d3b93b6e0e5",
        "_cell_guid": "b1076dfc-b9ad-4769-8c92-a6c4dae69d19",
        "trusted": true
      },
      "cell_type": "code",
      "source": "#Imports\nimport numpy as np # linear algebra\nimport pandas as pd # data processing, CSV file I/O (e.g. pd.read_csv)\nimport os\nimport matplotlib.pyplot as plt\n%matplotlib inline\nimport warnings\nwarnings.filterwarnings('ignore')\nfrom sklearn.linear_model import LogisticRegression\nfrom sklearn.preprocessing import Imputer\nimport seaborn as sns\n",
      "execution_count": 1,
      "outputs": []
    },
    {
      "metadata": {
        "_uuid": "988275a4cee4fcb90d8c69f7c67850a4dc14b861"
      },
      "cell_type": "markdown",
      "source": "## Reading Data"
    },
    {
      "metadata": {
        "_cell_guid": "79c7e3d0-c299-4dcb-8224-4455121ee9b0",
        "_uuid": "d629ff2d2480ee46fbb7e2d37f6b5fab8052498a",
        "trusted": true
      },
      "cell_type": "code",
      "source": "print(os.listdir(\"../input\"))\napplication_train= pd.read_csv('../input/application_train.csv')\napplication_test= pd.read_csv('../input/application_test.csv')\n#POS_CASH_balance= pd.read_csv('../input/POS_CASH_balance.csv')\nbureau_balance= pd.read_csv('../input/bureau_balance.csv')\n#previous_application= pd.read_csv('../input/previous_application.csv')\n#installments_payments= pd.read_csv('../input/installments_payments.csv')\n#credit_card_balance= pd.read_csv('../input/credit_card_balance.csv')\nbureau= pd.read_csv('../input/bureau.csv')\n\napplication_train.set_index('SK_ID_CURR', inplace=True)\napplication_test.set_index('SK_ID_CURR', inplace=True)\ntarget=application_train['TARGET']\nprint(\"Application Train Size and Test Size: \", application_train.shape,application_test.shape)\nprint(\"Percentage of Train Data: \",len(application_train)*100/(len(application_train)+len(application_test)))\nprint(\"Percentage of Test Data\",len(application_test)*100/(len(application_train)+len(application_test)))\ntrain=application_train\ntest=application_test",
      "execution_count": 15,
      "outputs": [
        {
          "output_type": "stream",
          "text": "['POS_CASH_balance.csv', 'bureau_balance.csv', 'application_train.csv', 'previous_application.csv', 'installments_payments.csv', 'credit_card_balance.csv', 'sample_submission.csv', 'application_test.csv', 'bureau.csv']\nApplication Train Size and Test Size:  (307511, 121) (48744, 120)\nPercentage of Train Data:  86.3176657169724\nPercentage of Test Data 13.682334283027606\n",
          "name": "stdout"
        }
      ]
    },
    {
      "metadata": {
        "trusted": true,
        "_uuid": "21e5f4eece6048517468c240418368334cca6ee9"
      },
      "cell_type": "code",
      "source": "len(application_train.index)+len(application_test.index)",
      "execution_count": 22,
      "outputs": [
        {
          "output_type": "execute_result",
          "execution_count": 22,
          "data": {
            "text/plain": "356255"
          },
          "metadata": {}
        }
      ]
    },
    {
      "metadata": {
        "trusted": true,
        "_uuid": "65847c2a41cdf4444f15b723e31792515c4d063c"
      },
      "cell_type": "code",
      "source": "print(len(bureau['SK_ID_BUREAU']))\nlen(bureau['SK_ID_CURR'].unique())\n",
      "execution_count": 32,
      "outputs": [
        {
          "output_type": "stream",
          "text": "1716428\n",
          "name": "stdout"
        },
        {
          "output_type": "execute_result",
          "execution_count": 32,
          "data": {
            "text/plain": "305811"
          },
          "metadata": {}
        }
      ]
    },
    {
      "metadata": {
        "trusted": true,
        "_uuid": "9b7afa83aa519624dc3bb12ff3e2478e0ef4a035"
      },
      "cell_type": "code",
      "source": "#assign, target value \n\nbsid=bureau['SK_ID_CURR']\nbureau['TARGET']=train['TARGET'][bsid].values\n",
      "execution_count": 59,
      "outputs": []
    },
    {
      "metadata": {
        "trusted": true,
        "_uuid": "761fe81c54403218f2d9951042f3f54f794b81a3"
      },
      "cell_type": "code",
      "source": "count=bureau['SK_ID_CURR'].value_counts()\nidx=count.index.values\nid_count=count",
      "execution_count": 202,
      "outputs": []
    },
    {
      "metadata": {
        "trusted": true,
        "_uuid": "471b7961af44bdd8528cfd3d3f24f91cf2fb68c1"
      },
      "cell_type": "code",
      "source": "ca_count=pd.DataFrame(columns=['id','credit_active','credit_closed'])\nca_count['id']=idx",
      "execution_count": 203,
      "outputs": []
    },
    {
      "metadata": {
        "trusted": true,
        "_uuid": "cabe718a4367c0ab4e69491aa33f33e53171d980"
      },
      "cell_type": "code",
      "source": "ca_count",
      "execution_count": 204,
      "outputs": [
        {
          "output_type": "execute_result",
          "execution_count": 204,
          "data": {
            "text/plain": "            id credit_active credit_closed\n0       120860           NaN           NaN\n1       169704           NaN           NaN\n2       318065           NaN           NaN\n3       251643           NaN           NaN\n4       425396           NaN           NaN\n5       295809           NaN           NaN\n6       129843           NaN           NaN\n7       385133           NaN           NaN\n8       177014           NaN           NaN\n9       325354           NaN           NaN\n10      252366           NaN           NaN\n11      218175           NaN           NaN\n12      280155           NaN           NaN\n13      281455           NaN           NaN\n14      430261           NaN           NaN\n15      246770           NaN           NaN\n16      260762           NaN           NaN\n17      241096           NaN           NaN\n18      280042           NaN           NaN\n19      220625           NaN           NaN\n20      341845           NaN           NaN\n21      394986           NaN           NaN\n22      164261           NaN           NaN\n23      245562           NaN           NaN\n24      403382           NaN           NaN\n25      207189           NaN           NaN\n26      329272           NaN           NaN\n27      310637           NaN           NaN\n28      162711           NaN           NaN\n29      260854           NaN           NaN\n...        ...           ...           ...\n305781  368691           NaN           NaN\n305782  264496           NaN           NaN\n305783  184093           NaN           NaN\n305784  289084           NaN           NaN\n305785  183785           NaN           NaN\n305786  434259           NaN           NaN\n305787  174290           NaN           NaN\n305788  167393           NaN           NaN\n305789  149710           NaN           NaN\n305790  440210           NaN           NaN\n305791  400755           NaN           NaN\n305792  404853           NaN           NaN\n305793  133318           NaN           NaN\n305794  137412           NaN           NaN\n305795  364404           NaN           NaN\n305796  417679           NaN           NaN\n305797  417147           NaN           NaN\n305798  116926           NaN           NaN\n305799  118973           NaN           NaN\n305800  105859           NaN           NaN\n305801  124300           NaN           NaN\n305802  234946           NaN           NaN\n305803  380796           NaN           NaN\n305804  236995           NaN           NaN\n305805  245191           NaN           NaN\n305806  206292           NaN           NaN\n305807  216537           NaN           NaN\n305808  106359           NaN           NaN\n305809  100212           NaN           NaN\n305810  250544           NaN           NaN\n\n[305811 rows x 3 columns]",
            "text/html": "<div>\n<style scoped>\n    .dataframe tbody tr th:only-of-type {\n        vertical-align: middle;\n    }\n\n    .dataframe tbody tr th {\n        vertical-align: top;\n    }\n\n    .dataframe thead th {\n        text-align: right;\n    }\n</style>\n<table border=\"1\" class=\"dataframe\">\n  <thead>\n    <tr style=\"text-align: right;\">\n      <th></th>\n      <th>id</th>\n      <th>credit_active</th>\n      <th>credit_closed</th>\n    </tr>\n  </thead>\n  <tbody>\n    <tr>\n      <th>0</th>\n      <td>120860</td>\n      <td>NaN</td>\n      <td>NaN</td>\n    </tr>\n    <tr>\n      <th>1</th>\n      <td>169704</td>\n      <td>NaN</td>\n      <td>NaN</td>\n    </tr>\n    <tr>\n      <th>2</th>\n      <td>318065</td>\n      <td>NaN</td>\n      <td>NaN</td>\n    </tr>\n    <tr>\n      <th>3</th>\n      <td>251643</td>\n      <td>NaN</td>\n      <td>NaN</td>\n    </tr>\n    <tr>\n      <th>4</th>\n      <td>425396</td>\n      <td>NaN</td>\n      <td>NaN</td>\n    </tr>\n    <tr>\n      <th>5</th>\n      <td>295809</td>\n      <td>NaN</td>\n      <td>NaN</td>\n    </tr>\n    <tr>\n      <th>6</th>\n      <td>129843</td>\n      <td>NaN</td>\n      <td>NaN</td>\n    </tr>\n    <tr>\n      <th>7</th>\n      <td>385133</td>\n      <td>NaN</td>\n      <td>NaN</td>\n    </tr>\n    <tr>\n      <th>8</th>\n      <td>177014</td>\n      <td>NaN</td>\n      <td>NaN</td>\n    </tr>\n    <tr>\n      <th>9</th>\n      <td>325354</td>\n      <td>NaN</td>\n      <td>NaN</td>\n    </tr>\n    <tr>\n      <th>10</th>\n      <td>252366</td>\n      <td>NaN</td>\n      <td>NaN</td>\n    </tr>\n    <tr>\n      <th>11</th>\n      <td>218175</td>\n      <td>NaN</td>\n      <td>NaN</td>\n    </tr>\n    <tr>\n      <th>12</th>\n      <td>280155</td>\n      <td>NaN</td>\n      <td>NaN</td>\n    </tr>\n    <tr>\n      <th>13</th>\n      <td>281455</td>\n      <td>NaN</td>\n      <td>NaN</td>\n    </tr>\n    <tr>\n      <th>14</th>\n      <td>430261</td>\n      <td>NaN</td>\n      <td>NaN</td>\n    </tr>\n    <tr>\n      <th>15</th>\n      <td>246770</td>\n      <td>NaN</td>\n      <td>NaN</td>\n    </tr>\n    <tr>\n      <th>16</th>\n      <td>260762</td>\n      <td>NaN</td>\n      <td>NaN</td>\n    </tr>\n    <tr>\n      <th>17</th>\n      <td>241096</td>\n      <td>NaN</td>\n      <td>NaN</td>\n    </tr>\n    <tr>\n      <th>18</th>\n      <td>280042</td>\n      <td>NaN</td>\n      <td>NaN</td>\n    </tr>\n    <tr>\n      <th>19</th>\n      <td>220625</td>\n      <td>NaN</td>\n      <td>NaN</td>\n    </tr>\n    <tr>\n      <th>20</th>\n      <td>341845</td>\n      <td>NaN</td>\n      <td>NaN</td>\n    </tr>\n    <tr>\n      <th>21</th>\n      <td>394986</td>\n      <td>NaN</td>\n      <td>NaN</td>\n    </tr>\n    <tr>\n      <th>22</th>\n      <td>164261</td>\n      <td>NaN</td>\n      <td>NaN</td>\n    </tr>\n    <tr>\n      <th>23</th>\n      <td>245562</td>\n      <td>NaN</td>\n      <td>NaN</td>\n    </tr>\n    <tr>\n      <th>24</th>\n      <td>403382</td>\n      <td>NaN</td>\n      <td>NaN</td>\n    </tr>\n    <tr>\n      <th>25</th>\n      <td>207189</td>\n      <td>NaN</td>\n      <td>NaN</td>\n    </tr>\n    <tr>\n      <th>26</th>\n      <td>329272</td>\n      <td>NaN</td>\n      <td>NaN</td>\n    </tr>\n    <tr>\n      <th>27</th>\n      <td>310637</td>\n      <td>NaN</td>\n      <td>NaN</td>\n    </tr>\n    <tr>\n      <th>28</th>\n      <td>162711</td>\n      <td>NaN</td>\n      <td>NaN</td>\n    </tr>\n    <tr>\n      <th>29</th>\n      <td>260854</td>\n      <td>NaN</td>\n      <td>NaN</td>\n    </tr>\n    <tr>\n      <th>...</th>\n      <td>...</td>\n      <td>...</td>\n      <td>...</td>\n    </tr>\n    <tr>\n      <th>305781</th>\n      <td>368691</td>\n      <td>NaN</td>\n      <td>NaN</td>\n    </tr>\n    <tr>\n      <th>305782</th>\n      <td>264496</td>\n      <td>NaN</td>\n      <td>NaN</td>\n    </tr>\n    <tr>\n      <th>305783</th>\n      <td>184093</td>\n      <td>NaN</td>\n      <td>NaN</td>\n    </tr>\n    <tr>\n      <th>305784</th>\n      <td>289084</td>\n      <td>NaN</td>\n      <td>NaN</td>\n    </tr>\n    <tr>\n      <th>305785</th>\n      <td>183785</td>\n      <td>NaN</td>\n      <td>NaN</td>\n    </tr>\n    <tr>\n      <th>305786</th>\n      <td>434259</td>\n      <td>NaN</td>\n      <td>NaN</td>\n    </tr>\n    <tr>\n      <th>305787</th>\n      <td>174290</td>\n      <td>NaN</td>\n      <td>NaN</td>\n    </tr>\n    <tr>\n      <th>305788</th>\n      <td>167393</td>\n      <td>NaN</td>\n      <td>NaN</td>\n    </tr>\n    <tr>\n      <th>305789</th>\n      <td>149710</td>\n      <td>NaN</td>\n      <td>NaN</td>\n    </tr>\n    <tr>\n      <th>305790</th>\n      <td>440210</td>\n      <td>NaN</td>\n      <td>NaN</td>\n    </tr>\n    <tr>\n      <th>305791</th>\n      <td>400755</td>\n      <td>NaN</td>\n      <td>NaN</td>\n    </tr>\n    <tr>\n      <th>305792</th>\n      <td>404853</td>\n      <td>NaN</td>\n      <td>NaN</td>\n    </tr>\n    <tr>\n      <th>305793</th>\n      <td>133318</td>\n      <td>NaN</td>\n      <td>NaN</td>\n    </tr>\n    <tr>\n      <th>305794</th>\n      <td>137412</td>\n      <td>NaN</td>\n      <td>NaN</td>\n    </tr>\n    <tr>\n      <th>305795</th>\n      <td>364404</td>\n      <td>NaN</td>\n      <td>NaN</td>\n    </tr>\n    <tr>\n      <th>305796</th>\n      <td>417679</td>\n      <td>NaN</td>\n      <td>NaN</td>\n    </tr>\n    <tr>\n      <th>305797</th>\n      <td>417147</td>\n      <td>NaN</td>\n      <td>NaN</td>\n    </tr>\n    <tr>\n      <th>305798</th>\n      <td>116926</td>\n      <td>NaN</td>\n      <td>NaN</td>\n    </tr>\n    <tr>\n      <th>305799</th>\n      <td>118973</td>\n      <td>NaN</td>\n      <td>NaN</td>\n    </tr>\n    <tr>\n      <th>305800</th>\n      <td>105859</td>\n      <td>NaN</td>\n      <td>NaN</td>\n    </tr>\n    <tr>\n      <th>305801</th>\n      <td>124300</td>\n      <td>NaN</td>\n      <td>NaN</td>\n    </tr>\n    <tr>\n      <th>305802</th>\n      <td>234946</td>\n      <td>NaN</td>\n      <td>NaN</td>\n    </tr>\n    <tr>\n      <th>305803</th>\n      <td>380796</td>\n      <td>NaN</td>\n      <td>NaN</td>\n    </tr>\n    <tr>\n      <th>305804</th>\n      <td>236995</td>\n      <td>NaN</td>\n      <td>NaN</td>\n    </tr>\n    <tr>\n      <th>305805</th>\n      <td>245191</td>\n      <td>NaN</td>\n      <td>NaN</td>\n    </tr>\n    <tr>\n      <th>305806</th>\n      <td>206292</td>\n      <td>NaN</td>\n      <td>NaN</td>\n    </tr>\n    <tr>\n      <th>305807</th>\n      <td>216537</td>\n      <td>NaN</td>\n      <td>NaN</td>\n    </tr>\n    <tr>\n      <th>305808</th>\n      <td>106359</td>\n      <td>NaN</td>\n      <td>NaN</td>\n    </tr>\n    <tr>\n      <th>305809</th>\n      <td>100212</td>\n      <td>NaN</td>\n      <td>NaN</td>\n    </tr>\n    <tr>\n      <th>305810</th>\n      <td>250544</td>\n      <td>NaN</td>\n      <td>NaN</td>\n    </tr>\n  </tbody>\n</table>\n<p>305811 rows × 3 columns</p>\n</div>"
          },
          "metadata": {}
        }
      ]
    },
    {
      "metadata": {
        "trusted": true,
        "_uuid": "f7c4f07bac286f562268bf36114aa1e28ef32eab"
      },
      "cell_type": "code",
      "source": "for i in idx:\n    bid=bureau['SK_ID_BUREAU'][bureau['SK_ID_CURR']==i]\n    bid=bureau['CREDIT_ACTIVE'][bureau['SK_ID_CURR']==i]\n    print(bid.value_counts())\n    print((bid=='Closed').sum())\n    print((bid=='Active').sum())\n    ca_count['credit_closed'][ca_count['id']==i]= (bid=='Closed').sum()\n    ca_count['credit_active'][ca_count['id']==i]= (bid=='Active').sum()\n",
      "execution_count": null,
      "outputs": [
        {
          "output_type": "stream",
          "text": "Closed    108\nActive      8\nName: CREDIT_ACTIVE, dtype: int64\n108\n8\nClosed    84\nActive    10\nName: CREDIT_ACTIVE, dtype: int64\n84\n10\nClosed    66\nActive    12\nName: CREDIT_ACTIVE, dtype: int64\n66\n12\nClosed    48\nActive    13\nName: CREDIT_ACTIVE, dtype: int64\n48\n13\n",
          "name": "stdout"
        }
      ]
    },
    {
      "metadata": {
        "trusted": true,
        "_uuid": "ce98c71a6651c3f7d514d03cfa2b12f5de9e3fad"
      },
      "cell_type": "code",
      "source": "ca_count",
      "execution_count": 199,
      "outputs": [
        {
          "output_type": "execute_result",
          "execution_count": 199,
          "data": {
            "text/plain": "       id credit_active credit_closed\n0  374167             1             2\n1  196952             1             2\n2  374875             2             1",
            "text/html": "<div>\n<style scoped>\n    .dataframe tbody tr th:only-of-type {\n        vertical-align: middle;\n    }\n\n    .dataframe tbody tr th {\n        vertical-align: top;\n    }\n\n    .dataframe thead th {\n        text-align: right;\n    }\n</style>\n<table border=\"1\" class=\"dataframe\">\n  <thead>\n    <tr style=\"text-align: right;\">\n      <th></th>\n      <th>id</th>\n      <th>credit_active</th>\n      <th>credit_closed</th>\n    </tr>\n  </thead>\n  <tbody>\n    <tr>\n      <th>0</th>\n      <td>374167</td>\n      <td>1</td>\n      <td>2</td>\n    </tr>\n    <tr>\n      <th>1</th>\n      <td>196952</td>\n      <td>1</td>\n      <td>2</td>\n    </tr>\n    <tr>\n      <th>2</th>\n      <td>374875</td>\n      <td>2</td>\n      <td>1</td>\n    </tr>\n  </tbody>\n</table>\n</div>"
          },
          "metadata": {}
        }
      ]
    },
    {
      "metadata": {
        "trusted": true,
        "_uuid": "e560bfe5cc608748956e62ff3f4c84028beae12e"
      },
      "cell_type": "code",
      "source": "idx[:5]",
      "execution_count": 125,
      "outputs": [
        {
          "output_type": "execute_result",
          "execution_count": 125,
          "data": {
            "text/plain": "[215354, 162297]"
          },
          "metadata": {}
        }
      ]
    },
    {
      "metadata": {
        "trusted": true,
        "_uuid": "51d09f0c35747ba00a8e46cd7d0eda97d754c1ec"
      },
      "cell_type": "code",
      "source": "id_count",
      "execution_count": 106,
      "outputs": [
        {
          "output_type": "execute_result",
          "execution_count": 106,
          "data": {
            "text/plain": "array([116,  94,  78, ...,   1,   1,   1])"
          },
          "metadata": {}
        }
      ]
    },
    {
      "metadata": {
        "trusted": true,
        "_uuid": "eaf5a3db36681376bc6aeb926126dffca8bd2aa0"
      },
      "cell_type": "code",
      "source": "#calculate number of credits active or close for each candidiate \nid_value=bureau['SK_ID_CURR'].unique()\n\ndata=pd.DataFrame(id_value)\n#data\n#for each id\nidx=data[0][:2]\nbureau['CREDIT_ACTIVE'][idx]\n#for i in idx:\n    #calculate number of active and\n#    print(i)\n#    print(bureau['CREDIT_ACTIVE'][i])",
      "execution_count": 90,
      "outputs": [
        {
          "output_type": "execute_result",
          "execution_count": 90,
          "data": {
            "text/plain": "215354    Active\n162297    Closed\nName: CREDIT_ACTIVE, dtype: object"
          },
          "metadata": {}
        }
      ]
    },
    {
      "metadata": {
        "trusted": true,
        "_uuid": "80ac2b810f702b33949c2ea6056dac5be9be5a32"
      },
      "cell_type": "code",
      "source": "plt.figure(figsize=(13,10))\nit=bureau[bureau['TARGET']==1]\ntrain_corr=it.corr()\nsns.heatmap(train_corr, vmax=0.8)\nprice_corr_values=train_corr['TARGET'].sort_values(ascending=False)\nprint(abs(price_corr_values).sort_values(ascending=False).head(20))",
      "execution_count": 70,
      "outputs": [
        {
          "output_type": "stream",
          "text": "SK_ID_CURR               NaN\nSK_ID_BUREAU             NaN\nDAYS_CREDIT              NaN\nCREDIT_DAY_OVERDUE       NaN\nDAYS_CREDIT_ENDDATE      NaN\nDAYS_ENDDATE_FACT        NaN\nAMT_CREDIT_MAX_OVERDUE   NaN\nCNT_CREDIT_PROLONG       NaN\nAMT_CREDIT_SUM           NaN\nAMT_CREDIT_SUM_DEBT      NaN\nAMT_CREDIT_SUM_LIMIT     NaN\nAMT_CREDIT_SUM_OVERDUE   NaN\nDAYS_CREDIT_UPDATE       NaN\nAMT_ANNUITY              NaN\nTARGET                   NaN\nName: TARGET, dtype: float64\n",
          "name": "stdout"
        },
        {
          "output_type": "display_data",
          "data": {
            "text/plain": "<Figure size 936x720 with 2 Axes>",
            "image/png": "[encoded data removed]"
          },
          "metadata": {}
        }
      ]
    },
    {
      "metadata": {
        "trusted": true,
        "_uuid": "a8c23e4eb9319b23df255d77c11cad16880a298b"
      },
      "cell_type": "code",
      "source": "plt.figure(figsize=(13,10))\ntrain_corr=train.corr()\nsns.heatmap(train_corr, vmax=0.8)\nprice_corr_values=train_corr['TARGET'].sort_values(ascending=False)\nprint(abs(price_corr_values).sort_values(ascending=False).head(20))",
      "execution_count": null,
      "outputs": []
    },
    {
      "metadata": {
        "trusted": true,
        "_uuid": "2972d0f715b5dd2ed13b45c4ec54413c07b6bfa2"
      },
      "cell_type": "code",
      "source": "#Days Birth",
      "execution_count": null,
      "outputs": []
    },
    {
      "metadata": {
        "trusted": true,
        "_uuid": "e1012a8d52f05a2612270631e71d8b6608fdf350"
      },
      "cell_type": "code",
      "source": "train_bday=train['DAYS_BIRTH']/365\nplt.hist(train_bday, edgecolor = 'k', bins = 25)\nplt.title('Age of Client'); plt.xlabel('Age (years)'); plt.ylabel('Count');",
      "execution_count": null,
      "outputs": []
    },
    {
      "metadata": {
        "trusted": true,
        "_uuid": "faea9cb3ed04c17c6d3a894f5879e7478d9cbb50"
      },
      "cell_type": "code",
      "source": "plt.hist(train_bday[train['TARGET']==0], edgecolor = 'k', bins = 25)\nplt.hist(train_bday[train['TARGET']==1], edgecolor = 'k', bins = 25)\nplt.title('Age of Client'); plt.xlabel('Age (years)'); plt.ylabel('Count');",
      "execution_count": null,
      "outputs": []
    },
    {
      "metadata": {
        "trusted": true,
        "_uuid": "4f1fa03c67f78852fe85de7b440fe3dbae71c4af"
      },
      "cell_type": "code",
      "source": "plt.figure(figsize = (8, 6))\n\n# KDE plot of loans that were repaid on time\nsns.kdeplot(train_bday[train['TARGET']==0], label = 'target == 0')\nsns.kdeplot(train_bday[train['TARGET']==1], label = 'target == 1')\nplt.title('Age')\n\nplt.figure(figsize = (8, 6))\ntrain_ext1=train['EXT_SOURCE_1']\n# KDE plot of loans that were repaid on time\nsns.kdeplot(train_ext1[train['TARGET']==0], label = 'target == 0')\nsns.kdeplot(train_ext1[train['TARGET']==1], label = 'target == 1')\n\nplt.figure(figsize = (8, 6))\ntrain_ext2=train['EXT_SOURCE_2']\n# KDE plot of loans that were repaid on time\nsns.kdeplot(train_ext2[train['TARGET']==0], label = 'target == 0')\nsns.kdeplot(train_ext2[train['TARGET']==1], label = 'target == 1')\n\nplt.figure(figsize = (8, 6))\ntrain_ext3=train['EXT_SOURCE_3']\n# KDE plot of loans that were repaid on time\nsns.kdeplot(train_ext3[train['TARGET']==0], label = 'target == 0')\nsns.kdeplot(train_ext3[train['TARGET']==1], label = 'target == 1')",
      "execution_count": null,
      "outputs": []
    },
    {
      "metadata": {
        "trusted": true,
        "_uuid": "ecaea05b8e4c48d9addaadcfc87f0a66e920a899"
      },
      "cell_type": "code",
      "source": "plt.figure(figsize=(13,10))\ntrain_corr=train_p.corr()\nsns.heatmap(train_corr, vmax=0.8)\nprice_corr_values=train_corr['TARGET'].sort_values(ascending=False)\nprint(abs(price_corr_values).sort_values(ascending=False).head(20))",
      "execution_count": null,
      "outputs": []
    },
    {
      "metadata": {
        "trusted": true,
        "_uuid": "1260b9010cbf674ea75c9bbb9d457d773e73c07c"
      },
      "cell_type": "code",
      "source": "# Make a new dataframe for polynomial features\npoly_features = train[['EXT_SOURCE_1', 'EXT_SOURCE_2', 'EXT_SOURCE_3', 'DAYS_BIRTH', 'TARGET']]\npoly_features_test = test[['EXT_SOURCE_1', 'EXT_SOURCE_2', 'EXT_SOURCE_3', 'DAYS_BIRTH']]\n\n# imputer for handling missing values\nfrom sklearn.preprocessing import Imputer\nimputer = Imputer(strategy = 'median')\n\npoly_target = poly_features['TARGET']\n\npoly_features = poly_features.drop(columns = ['TARGET'])\n\n# Need to impute missing values\npoly_features = imputer.fit_transform(poly_features)\npoly_features_test = imputer.transform(poly_features_test)\n\nfrom sklearn.preprocessing import PolynomialFeatures\n                                  \n# Create the polynomial object with specified degree\npoly_transformer = PolynomialFeatures(degree = 3)",
      "execution_count": 9,
      "outputs": [
        {
          "output_type": "stream",
          "text": "/opt/conda/lib/python3.6/site-packages/sklearn/utils/deprecation.py:58: DeprecationWarning: Class Imputer is deprecated; Imputer was deprecated in version 0.20 and will be removed in 0.22. Import impute.SimpleImputer from sklearn instead.\n  warnings.warn(msg, category=DeprecationWarning)\n",
          "name": "stderr"
        }
      ]
    },
    {
      "metadata": {
        "trusted": true,
        "_uuid": "7f376e050acae568e02922194e2ea8b4edf5a3fe"
      },
      "cell_type": "code",
      "source": "# Train the polynomial features\npoly_transformer.fit(poly_features)\n\n# Transform the features\npoly_features = poly_transformer.transform(poly_features)\npoly_features_test = poly_transformer.transform(poly_features_test)\nprint('Polynomial Features shape: ', poly_features.shape)",
      "execution_count": 10,
      "outputs": [
        {
          "output_type": "stream",
          "text": "Polynomial Features shape:  (307511, 35)\n",
          "name": "stdout"
        }
      ]
    },
    {
      "metadata": {
        "trusted": true,
        "_uuid": "6c7c6ed7b813ea0e21a9a1f86f46d8dd6d8d852c"
      },
      "cell_type": "code",
      "source": "poly_transformer.get_feature_names(input_features = ['EXT_SOURCE_1', 'EXT_SOURCE_2', 'EXT_SOURCE_3', 'DAYS_BIRTH'])[:15]",
      "execution_count": 11,
      "outputs": [
        {
          "output_type": "execute_result",
          "execution_count": 11,
          "data": {
            "text/plain": "['1',\n 'EXT_SOURCE_1',\n 'EXT_SOURCE_2',\n 'EXT_SOURCE_3',\n 'DAYS_BIRTH',\n 'EXT_SOURCE_1^2',\n 'EXT_SOURCE_1 EXT_SOURCE_2',\n 'EXT_SOURCE_1 EXT_SOURCE_3',\n 'EXT_SOURCE_1 DAYS_BIRTH',\n 'EXT_SOURCE_2^2',\n 'EXT_SOURCE_2 EXT_SOURCE_3',\n 'EXT_SOURCE_2 DAYS_BIRTH',\n 'EXT_SOURCE_3^2',\n 'EXT_SOURCE_3 DAYS_BIRTH',\n 'DAYS_BIRTH^2']"
          },
          "metadata": {}
        }
      ]
    },
    {
      "metadata": {
        "trusted": true,
        "_uuid": "cc4ad385d7e10ff20863e3a6ed6f281baaa6079d"
      },
      "cell_type": "code",
      "source": "# Create a dataframe of the features \npoly_features = pd.DataFrame(poly_features, \n                             columns = poly_transformer.get_feature_names(['EXT_SOURCE_1', 'EXT_SOURCE_2', \n                                                                           'EXT_SOURCE_3', 'DAYS_BIRTH']))\n\n# Add in the target\npoly_features['TARGET'] = poly_target\n\n# Find the correlations with the target\npoly_corrs = poly_features.corr()['TARGET'].sort_values()\n\n# Display most negative and most positive\nprint(poly_corrs.head(10))\nprint(poly_corrs.tail(5))",
      "execution_count": 12,
      "outputs": [
        {
          "output_type": "stream",
          "text": "EXT_SOURCE_3^3                -0.005448\nEXT_SOURCE_3^2                -0.004932\nEXT_SOURCE_3                  -0.004023\nEXT_SOURCE_1 EXT_SOURCE_3^2   -0.003921\nEXT_SOURCE_3 DAYS_BIRTH^2     -0.003050\nEXT_SOURCE_1 EXT_SOURCE_3     -0.002701\nEXT_SOURCE_2 EXT_SOURCE_3^2   -0.002487\nDAYS_BIRTH^2                  -0.001403\nEXT_SOURCE_2 EXT_SOURCE_3     -0.001345\nEXT_SOURCE_1^2 EXT_SOURCE_3   -0.001202\nName: TARGET, dtype: float64\nEXT_SOURCE_1 EXT_SOURCE_3 DAYS_BIRTH    0.002667\nEXT_SOURCE_3 DAYS_BIRTH                 0.003814\nEXT_SOURCE_3^2 DAYS_BIRTH               0.004843\nTARGET                                  1.000000\n1                                            NaN\nName: TARGET, dtype: float64\n",
          "name": "stdout"
        }
      ]
    },
    {
      "metadata": {
        "trusted": true,
        "_uuid": "44e7c83ee0318cd3d6fc9c281aa052308389758c"
      },
      "cell_type": "code",
      "source": "#Converting to polynomial\n\npolytrain = train[['EXT_SOURCE_1', 'EXT_SOURCE_2', 'EXT_SOURCE_3', 'DAYS_BIRTH','TARGET']]\npolytest = test[['EXT_SOURCE_1', 'EXT_SOURCE_2', 'EXT_SOURCE_3', 'DAYS_BIRTH']]\n\n\n\nfrom sklearn.preprocessing import Imputer\nimputer = Imputer(strategy = 'median')\npolytarget=polytrain['TARGET']\npolytrain = polytrain.drop(columns = ['TARGET'])\n\npolytrain = imputer.fit_transform(polytrain)\npolytest = imputer.transform(polytest)\n\nfrom sklearn.preprocessing import PolynomialFeatures\npolytrans = PolynomialFeatures(degree = 3)\n\n",
      "execution_count": 4,
      "outputs": [
        {
          "output_type": "stream",
          "text": "/opt/conda/lib/python3.6/site-packages/sklearn/utils/deprecation.py:58: DeprecationWarning: Class Imputer is deprecated; Imputer was deprecated in version 0.20 and will be removed in 0.22. Import impute.SimpleImputer from sklearn instead.\n  warnings.warn(msg, category=DeprecationWarning)\n",
          "name": "stderr"
        }
      ]
    },
    {
      "metadata": {
        "trusted": true,
        "_uuid": "801d4a56e9fbd0ec02c4c97f7f2997acaddb4b7e"
      },
      "cell_type": "code",
      "source": "# Train the polynomial features\npolytrans.fit(polytrain)\n# Transform the features\npolytrain = polytrans.transform(polytrain)\npolytest = polytrans.transform(polytest)\nprint('Polynomial Features shape: ', polytrain.shape)\n\npolynames=polytrans.get_feature_names(input_features = [ 'EXT_SOURCE_1','EXT_SOURCE_2', 'EXT_SOURCE_3', 'DAYS_BIRTH'])",
      "execution_count": 5,
      "outputs": [
        {
          "output_type": "stream",
          "text": "Polynomial Features shape:  (307511, 35)\n",
          "name": "stdout"
        }
      ]
    },
    {
      "metadata": {
        "trusted": true,
        "_uuid": "5d985544ae1b527afdfc2638d8b63d63285e5cbc"
      },
      "cell_type": "code",
      "source": "polytrain = pd.DataFrame(polytrain,columns = polynames)\npolytrain['TARGET'] = polytarget",
      "execution_count": 6,
      "outputs": []
    },
    {
      "metadata": {
        "trusted": true,
        "_uuid": "d90d9e271ed3ea4e3eb37c08c78cbb3bead9df17"
      },
      "cell_type": "code",
      "source": "poly_corrs = polytrain.corr()['TARGET'].sort_values()",
      "execution_count": 7,
      "outputs": []
    },
    {
      "metadata": {
        "trusted": true,
        "_uuid": "00ce6a8aef9e4ced7b7b4cf6066d81e67e5794a4"
      },
      "cell_type": "code",
      "source": "poly_corrs",
      "execution_count": 8,
      "outputs": [
        {
          "output_type": "execute_result",
          "execution_count": 8,
          "data": {
            "text/plain": "EXT_SOURCE_3^3                           -0.005448\nEXT_SOURCE_3^2                           -0.004932\nEXT_SOURCE_3                             -0.004023\nEXT_SOURCE_1 EXT_SOURCE_3^2              -0.003921\nEXT_SOURCE_3 DAYS_BIRTH^2                -0.003050\nEXT_SOURCE_1 EXT_SOURCE_3                -0.002701\nEXT_SOURCE_2 EXT_SOURCE_3^2              -0.002487\nDAYS_BIRTH^2                             -0.001403\nEXT_SOURCE_2 EXT_SOURCE_3                -0.001345\nEXT_SOURCE_1^2 EXT_SOURCE_3              -0.001202\nEXT_SOURCE_1 EXT_SOURCE_2 DAYS_BIRTH     -0.000993\nEXT_SOURCE_1 DAYS_BIRTH^2                -0.000848\nEXT_SOURCE_2^2 DAYS_BIRTH                -0.000595\nEXT_SOURCE_2^2 EXT_SOURCE_3              -0.000472\nEXT_SOURCE_1^2 DAYS_BIRTH                -0.000367\nEXT_SOURCE_1                             -0.000116\nEXT_SOURCE_2 DAYS_BIRTH^2                -0.000107\nEXT_SOURCE_2 DAYS_BIRTH                  -0.000076\nEXT_SOURCE_1 EXT_SOURCE_2 EXT_SOURCE_3   -0.000046\nEXT_SOURCE_2^3                            0.000660\nEXT_SOURCE_2                              0.000665\nEXT_SOURCE_2^2                            0.000807\nEXT_SOURCE_1 DAYS_BIRTH                   0.000818\nEXT_SOURCE_1^2                            0.000900\nDAYS_BIRTH^3                              0.001125\nEXT_SOURCE_2 EXT_SOURCE_3 DAYS_BIRTH      0.001491\nEXT_SOURCE_1^3                            0.001574\nEXT_SOURCE_1 EXT_SOURCE_2                 0.001634\nEXT_SOURCE_1 EXT_SOURCE_2^2               0.001659\nDAYS_BIRTH                                0.001675\nEXT_SOURCE_1^2 EXT_SOURCE_2               0.002161\nEXT_SOURCE_1 EXT_SOURCE_3 DAYS_BIRTH      0.002667\nEXT_SOURCE_3 DAYS_BIRTH                   0.003814\nEXT_SOURCE_3^2 DAYS_BIRTH                 0.004843\nTARGET                                    1.000000\n1                                              NaN\nName: TARGET, dtype: float64"
          },
          "metadata": {}
        }
      ]
    },
    {
      "metadata": {
        "_uuid": "3733895ca6d0f45b0762737f7ae8b83b5975dbcc"
      },
      "cell_type": "markdown",
      "source": "## Inspecting Data"
    },
    {
      "metadata": {
        "_uuid": "ff408c2e5a064a131ef10af5bad826f03da70228"
      },
      "cell_type": "markdown",
      "source": "## Pre-processing Data"
    },
    {
      "metadata": {
        "trusted": true,
        "_uuid": "b71b7d3058bfe942be3849975532b6f1498966aa"
      },
      "cell_type": "code",
      "source": "train_num,test_num,train_cat,test_cat=divide_data(train,test)\ntrain_num,test_num,train_cat,test_cat=add_int_to_cat(train_num,train_cat,test_num,test_cat)\ntrain_cat,test_cat=remove_cat_nans(train_cat,test_cat)\ntrain_cat,test_cat=convert_to_dummy(train_cat,test_cat)\ntrain_num,test_num=remove_num_nans(train_num,test_num)\n#train_num,test_num=fix_num_skew(train_num,test_num)\ntrain_p,test_p=combine_data(train_num,test_num,train_cat,test_cat)",
      "execution_count": null,
      "outputs": []
    },
    {
      "metadata": {
        "_uuid": "83d797d4849007f259a1729002c3e5d453a77924"
      },
      "cell_type": "markdown",
      "source": "## Inspecting Corelation"
    },
    {
      "metadata": {
        "trusted": true,
        "_uuid": "c5275094b0e4526d11b2e082c04b0e0b19987409"
      },
      "cell_type": "code",
      "source": "plt.figure(figsize=(13,10))\ntrain_corr=train_p.corr()\nsns.heatmap(train_corr, vmax=0.8)\nprice_corr_values=train_corr['TARGET'].sort_values(ascending=False)\nprint(abs(price_corr_values).sort_values(ascending=False).head(20))",
      "execution_count": null,
      "outputs": []
    },
    {
      "metadata": {
        "trusted": true,
        "_uuid": "9796d824e8801509dc863b49d2f73568153276dc"
      },
      "cell_type": "code",
      "source": "y=train_p['TARGET']\nX=train_p.drop('TARGET',axis=1)",
      "execution_count": null,
      "outputs": []
    },
    {
      "metadata": {
        "trusted": true,
        "_uuid": "aef8a84b579717726fcbe77ee91f2af43f9a23ef"
      },
      "cell_type": "code",
      "source": "from lightgbm import LGBMClassifier\nfrom sklearn.metrics import mean_squared_error\nfrom sklearn.model_selection import KFold\nfrom sklearn.ensemble import RandomForestClassifier\nimport lightgbm as lgb",
      "execution_count": null,
      "outputs": []
    },
    {
      "metadata": {
        "trusted": true,
        "_uuid": "1fc7f83a6d5c9a62505ab232a9fc0fe2d55b93ad",
        "scrolled": false
      },
      "cell_type": "code",
      "source": "train_errors = []\nvalidation_errors = []\ntrain_auc=[]\nvalid_auc=[]\n\ndata=X.reset_index(drop=True)\ntarget=y.reset_index(drop=True)\n\nkf = KFold(n_splits=5)\nfor train_index, test_index in kf.split(data):\n    X_train, X_val = data.iloc[train_index], data.iloc[test_index]\n    y_train, y_val = target.iloc[train_index], target.iloc[test_index] \n    print(\"\\nModel:LGBM Classifier\")\n    params = {}\n    params['learning_rate'] = 0.005\n    params['boosting_type'] = 'gbdt'\n    params['objective'] = 'binary'\n    params['metric'] = 'binary_logloss'\n    params['sub_feature'] = 0.5\n    params['num_leaves'] = 10\n    params['min_data'] = 50\n    params['max_depth'] = 10\n    model = LGBMClassifier(n_estimators=500,\n                           boosting_type = 'goss', \n                           objective = 'binary', \n                           class_weight = 'balanced', \n                           learning_rate = 0.005,\n                           reg_alpha = 0.1, \n                           reg_lambda = 0.1, \n                           n_jobs = -1, \n                           metric='auc',\n                           random_state = 50)\n    model.fit(X_train,y_train, \n              eval_metric = 'auc',\n              eval_set = [(X_val, y_val), (X_train, y_train)],\n              eval_names = ['valid', 'train'],  \n              early_stopping_rounds = 100,\n              verbose = 200)\n    best_iteration = model.best_iteration_\n\n    predictions = model.predict_proba(X_train)[:,1]\n    mse = mean_squared_error(y_train, predictions)\n    rmse = np.sqrt(mse)\n    train_error=rmse\n    train_errors.append(train_error)\n\n    predictions = model.predict_proba(X_val)[:,1]\n    mse = mean_squared_error(y_val, predictions)\n    rmse = np.sqrt(mse)\n    val_error = rmse\n    validation_errors.append(val_error)\n\n#print('alpha: {:6} | mean(train_error): {:7} | mean(val_error): {}'.format(round(np.mean(train_errors),4),round(np.mean(validation_errors),4)))\n#y_pred = model.predict_proba(test_p)[:,1]\n",
      "execution_count": null,
      "outputs": []
    },
    {
      "metadata": {
        "trusted": true,
        "_uuid": "0c8bc2d7ecd403643afab4bd4290eab3fc7fcd5a"
      },
      "cell_type": "code",
      "source": "pred = model.predict_proba(test_p)[:,1]",
      "execution_count": null,
      "outputs": []
    },
    {
      "metadata": {
        "trusted": true,
        "_uuid": "7754181a364d0f0df59395c113bc1ad22197eb80",
        "scrolled": true
      },
      "cell_type": "code",
      "source": "solution = pd.DataFrame({\"SK_ID_CURR\":test_p.index.values, \"TARGET\":pred})\nsolution.to_csv(\"lgbm.csv\", index = False)",
      "execution_count": null,
      "outputs": []
    },
    {
      "metadata": {
        "trusted": true,
        "_uuid": "78f3de4c88b5df1488a79cbe1f719cfcc1baf5c0"
      },
      "cell_type": "code",
      "source": "",
      "execution_count": null,
      "outputs": []
    },
    {
      "metadata": {
        "trusted": true,
        "_uuid": "d258eb54c936ac43719363b6dc24088eacf26e81"
      },
      "cell_type": "code",
      "source": "",
      "execution_count": null,
      "outputs": []
    },
    {
      "metadata": {
        "trusted": true,
        "_uuid": "8a241c905d12b66bbf989a852504e2e9ea059dd4"
      },
      "cell_type": "code",
      "source": "",
      "execution_count": null,
      "outputs": []
    },
    {
      "metadata": {
        "trusted": true,
        "_uuid": "2d102ee0ea1f0b71afde577662827460e17fb024"
      },
      "cell_type": "code",
      "source": "",
      "execution_count": null,
      "outputs": []
    },
    {
      "metadata": {
        "trusted": true,
        "_uuid": "2205fb633e34619576d9ea51a8759040d44267c8"
      },
      "cell_type": "code",
      "source": "",
      "execution_count": null,
      "outputs": []
    },
    {
      "metadata": {
        "trusted": true,
        "_uuid": "df26084fec6d3b69b06f0ddb8d1b30442f4213ee"
      },
      "cell_type": "code",
      "source": "",
      "execution_count": null,
      "outputs": []
    }
  ],
  "metadata": {
    "kernelspec": {
      "display_name": "Python 3",
      "language": "python",
      "name": "python3"
    },
    "language_info": {
      "name": "python",
      "version": "3.6.6",
      "mimetype": "text/x-python",
      "codemirror_mode": {
        "name": "ipython",
        "version": 3
      },
      "pygments_lexer": "ipython3",
      "nbconvert_exporter": "python",
      "file_extension": ".py"
    }
  },
  "nbformat": 4,
  "nbformat_minor": 1
}